{
 "cells": [
  {
   "cell_type": "code",
   "execution_count": 1,
   "metadata": {
    "colab": {
     "base_uri": "https://localhost:8080/",
     "height": 124
    },
    "colab_type": "code",
    "id": "sP49phHjtu4v",
    "outputId": "7761a3fe-f814-4296-c427-cb1661601188"
   },
   "outputs": [
    {
     "name": "stdout",
     "output_type": "stream",
     "text": [
      "Go to this URL in a browser: https://accounts.google.com/o/oauth2/auth?client_id=947318989803-6bn6qk8qdgf4n4g3pfee6491hc0brc4i.apps.googleusercontent.com&redirect_uri=urn%3aietf%3awg%3aoauth%3a2.0%3aoob&response_type=code&scope=email%20https%3a%2f%2fwww.googleapis.com%2fauth%2fdocs.test%20https%3a%2f%2fwww.googleapis.com%2fauth%2fdrive%20https%3a%2f%2fwww.googleapis.com%2fauth%2fdrive.photos.readonly%20https%3a%2f%2fwww.googleapis.com%2fauth%2fpeopleapi.readonly\n",
      "\n",
      "Enter your authorization code:\n",
      "··········\n",
      "Mounted at /content/drive\n"
     ]
    }
   ],
   "source": [
    "from google.colab import drive\n",
    "drive.mount('/content/drive')"
   ]
  },
  {
   "cell_type": "code",
   "execution_count": 2,
   "metadata": {
    "colab": {
     "base_uri": "https://localhost:8080/",
     "height": 34
    },
    "colab_type": "code",
    "id": "y5JhZy19u2eV",
    "outputId": "0b18302c-fdbf-47d6-b841-847246e9b379"
   },
   "outputs": [
    {
     "name": "stdout",
     "output_type": "stream",
     "text": [
      "/content/drive/My Drive\n"
     ]
    }
   ],
   "source": [
    "cd /content/drive/My\\ Drive/"
   ]
  },
  {
   "cell_type": "code",
   "execution_count": 0,
   "metadata": {
    "colab": {},
    "colab_type": "code",
    "id": "nREBuIu4AH7c"
   },
   "outputs": [],
   "source": [
    "%%bash\n",
    "#git clone https://github.com/cdqa-suite/cdQA.git "
   ]
  },
  {
   "cell_type": "code",
   "execution_count": 3,
   "metadata": {
    "colab": {
     "base_uri": "https://localhost:8080/",
     "height": 34
    },
    "colab_type": "code",
    "id": "Yi5jv-RB_Vfl",
    "outputId": "bcde8f0b-8959-4653-8c85-826c592fe95b"
   },
   "outputs": [
    {
     "name": "stdout",
     "output_type": "stream",
     "text": [
      "/content/drive/My Drive/cdQA\n"
     ]
    }
   ],
   "source": [
    "%cd cdQA "
   ]
  },
  {
   "cell_type": "code",
   "execution_count": 0,
   "metadata": {
    "colab": {},
    "colab_type": "code",
    "id": "pE1zL0bIROO1"
   },
   "outputs": [],
   "source": [
    "!ls"
   ]
  },
  {
   "cell_type": "code",
   "execution_count": 4,
   "metadata": {
    "colab": {
     "base_uri": "https://localhost:8080/",
     "height": 1000
    },
    "colab_type": "code",
    "id": "7Bh85rYz_psz",
    "outputId": "2e8d6b30-b739-4a33-c2f1-4aa202553064"
   },
   "outputs": [
    {
     "name": "stdout",
     "output_type": "stream",
     "text": [
      "Requirement already satisfied: Flask==1.1.1 in /usr/local/lib/python3.6/dist-packages (from -r requirements.txt (line 1)) (1.1.1)\n",
      "Collecting flask_cors==3.0.8\n",
      "  Downloading https://files.pythonhosted.org/packages/78/38/e68b11daa5d613e3a91e4bf3da76c94ac9ee0d9cd515af9c1ab80d36f709/Flask_Cors-3.0.8-py2.py3-none-any.whl\n",
      "Collecting joblib==0.13.2\n",
      "  Downloading https://files.pythonhosted.org/packages/cd/c1/50a758e8247561e58cb87305b1e90b171b8c767b15b12a1734001f41d356/joblib-0.13.2-py2.py3-none-any.whl (278kB)\n",
      "Collecting pandas==0.25.0\n",
      "  Downloading https://files.pythonhosted.org/packages/1d/9a/7eb9952f4b4d73fbd75ad1d5d6112f407e695957444cb695cbb3cdab918a/pandas-0.25.0-cp36-cp36m-manylinux1_x86_64.whl (10.5MB)\n",
      "Requirement already satisfied: prettytable==0.7.2 in /usr/local/lib/python3.6/dist-packages (from -r requirements.txt (line 5)) (0.7.2)\n",
      "Collecting transformers==2.1.1\n",
      "  Downloading https://files.pythonhosted.org/packages/fd/f9/51824e40f0a23a49eab4fcaa45c1c797cbf9761adedd0b558dab7c958b34/transformers-2.1.1-py3-none-any.whl (311kB)\n",
      "Collecting scikit_learn==0.21.2\n",
      "  Downloading https://files.pythonhosted.org/packages/85/04/49633f490f726da6e454fddc8e938bbb5bfed2001681118d3814c219b723/scikit_learn-0.21.2-cp36-cp36m-manylinux1_x86_64.whl (6.7MB)\n",
      "Collecting tika==1.19\n",
      "  Downloading https://files.pythonhosted.org/packages/10/75/b566e446ffcf292f10c8d84c15a3d91615fe3d7ca8072a17c949d4e84b66/tika-1.19.tar.gz\n",
      "Requirement already satisfied: torch>=1.2.0 in /usr/local/lib/python3.6/dist-packages (from -r requirements.txt (line 9)) (1.3.1+cu100)\n",
      "Requirement already satisfied: markdown==3.1.1 in /usr/local/lib/python3.6/dist-packages (from -r requirements.txt (line 10)) (3.1.1)\n",
      "Collecting tqdm==4.32.2\n",
      "  Downloading https://files.pythonhosted.org/packages/9f/3d/7a6b68b631d2ab54975f3a4863f3c4e9b26445353264ef01f465dc9b0208/tqdm-4.32.2-py2.py3-none-any.whl (50kB)\n",
      "Collecting wget==3.2\n",
      "  Downloading https://files.pythonhosted.org/packages/47/6a/62e288da7bcda82b935ff0c6cfe542970f04e29c756b0e147251b2fb251f/wget-3.2.zip\n",
      "Requirement already satisfied: Werkzeug>=0.15 in /usr/local/lib/python3.6/dist-packages (from Flask==1.1.1->-r requirements.txt (line 1)) (0.16.0)\n",
      "Requirement already satisfied: itsdangerous>=0.24 in /usr/local/lib/python3.6/dist-packages (from Flask==1.1.1->-r requirements.txt (line 1)) (1.1.0)\n",
      "Requirement already satisfied: Jinja2>=2.10.1 in /usr/local/lib/python3.6/dist-packages (from Flask==1.1.1->-r requirements.txt (line 1)) (2.10.3)\n",
      "Requirement already satisfied: click>=5.1 in /usr/local/lib/python3.6/dist-packages (from Flask==1.1.1->-r requirements.txt (line 1)) (7.0)\n",
      "Requirement already satisfied: Six in /usr/local/lib/python3.6/dist-packages (from flask_cors==3.0.8->-r requirements.txt (line 2)) (1.12.0)\n",
      "Requirement already satisfied: pytz>=2017.2 in /usr/local/lib/python3.6/dist-packages (from pandas==0.25.0->-r requirements.txt (line 4)) (2018.9)\n",
      "Requirement already satisfied: numpy>=1.13.3 in /usr/local/lib/python3.6/dist-packages (from pandas==0.25.0->-r requirements.txt (line 4)) (1.17.4)\n",
      "Requirement already satisfied: python-dateutil>=2.6.1 in /usr/local/lib/python3.6/dist-packages (from pandas==0.25.0->-r requirements.txt (line 4)) (2.6.1)\n",
      "Collecting sacremoses\n",
      "  Downloading https://files.pythonhosted.org/packages/1f/8e/ed5364a06a9ba720fddd9820155cc57300d28f5f43a6fd7b7e817177e642/sacremoses-0.0.35.tar.gz (859kB)\n",
      "Requirement already satisfied: boto3 in /usr/local/lib/python3.6/dist-packages (from transformers==2.1.1->-r requirements.txt (line 6)) (1.10.14)\n",
      "Requirement already satisfied: requests in /usr/local/lib/python3.6/dist-packages (from transformers==2.1.1->-r requirements.txt (line 6)) (2.21.0)\n",
      "Collecting sentencepiece\n",
      "  Downloading https://files.pythonhosted.org/packages/14/3d/efb655a670b98f62ec32d66954e1109f403db4d937c50d779a75b9763a29/sentencepiece-0.1.83-cp36-cp36m-manylinux1_x86_64.whl (1.0MB)\n",
      "Collecting regex\n",
      "  Downloading https://files.pythonhosted.org/packages/e3/8e/cbf2295643d7265e7883326fb4654e643bfc93b3a8a8274d8010a39d8804/regex-2019.11.1-cp36-cp36m-manylinux1_x86_64.whl (643kB)\n",
      "Requirement already satisfied: scipy>=0.17.0 in /usr/local/lib/python3.6/dist-packages (from scikit_learn==0.21.2->-r requirements.txt (line 7)) (1.3.2)\n",
      "Requirement already satisfied: setuptools in /usr/local/lib/python3.6/dist-packages (from tika==1.19->-r requirements.txt (line 8)) (41.4.0)\n",
      "Requirement already satisfied: MarkupSafe>=0.23 in /usr/local/lib/python3.6/dist-packages (from Jinja2>=2.10.1->Flask==1.1.1->-r requirements.txt (line 1)) (1.1.1)\n",
      "Requirement already satisfied: s3transfer<0.3.0,>=0.2.0 in /usr/local/lib/python3.6/dist-packages (from boto3->transformers==2.1.1->-r requirements.txt (line 6)) (0.2.1)\n",
      "Requirement already satisfied: jmespath<1.0.0,>=0.7.1 in /usr/local/lib/python3.6/dist-packages (from boto3->transformers==2.1.1->-r requirements.txt (line 6)) (0.9.4)\n",
      "Requirement already satisfied: botocore<1.14.0,>=1.13.14 in /usr/local/lib/python3.6/dist-packages (from boto3->transformers==2.1.1->-r requirements.txt (line 6)) (1.13.14)\n",
      "Requirement already satisfied: idna<2.9,>=2.5 in /usr/local/lib/python3.6/dist-packages (from requests->transformers==2.1.1->-r requirements.txt (line 6)) (2.8)\n",
      "Requirement already satisfied: certifi>=2017.4.17 in /usr/local/lib/python3.6/dist-packages (from requests->transformers==2.1.1->-r requirements.txt (line 6)) (2019.9.11)\n",
      "Requirement already satisfied: chardet<3.1.0,>=3.0.2 in /usr/local/lib/python3.6/dist-packages (from requests->transformers==2.1.1->-r requirements.txt (line 6)) (3.0.4)\n",
      "Requirement already satisfied: urllib3<1.25,>=1.21.1 in /usr/local/lib/python3.6/dist-packages (from requests->transformers==2.1.1->-r requirements.txt (line 6)) (1.24.3)\n",
      "Requirement already satisfied: docutils<0.16,>=0.10 in /usr/local/lib/python3.6/dist-packages (from botocore<1.14.0,>=1.13.14->boto3->transformers==2.1.1->-r requirements.txt (line 6)) (0.15.2)\n",
      "Building wheels for collected packages: tika, wget, sacremoses\n",
      "  Building wheel for tika (setup.py): started\n",
      "  Building wheel for tika (setup.py): finished with status 'done'\n",
      "  Created wheel for tika: filename=tika-1.19-cp36-none-any.whl size=29224 sha256=301d75c33cccca76d26597373e01f917452785584651b84c4726e5aee5e41d96\n",
      "  Stored in directory: /root/.cache/pip/wheels/b4/db/8a/3a3f0c0725448eaa92703e3dda71e29dc13a119ff6c1036848\n",
      "  Building wheel for wget (setup.py): started\n",
      "  Building wheel for wget (setup.py): finished with status 'done'\n",
      "  Created wheel for wget: filename=wget-3.2-cp36-none-any.whl size=9681 sha256=468ae96428ff734def7a2b2114955dcb3c49e21e91e9dd713f972a36dbfb965d\n",
      "  Stored in directory: /root/.cache/pip/wheels/40/15/30/7d8f7cea2902b4db79e3fea550d7d7b85ecb27ef992b618f3f\n",
      "  Building wheel for sacremoses (setup.py): started\n",
      "  Building wheel for sacremoses (setup.py): finished with status 'done'\n",
      "  Created wheel for sacremoses: filename=sacremoses-0.0.35-cp36-none-any.whl size=883999 sha256=4b6c9a9ad032daedf6ca8e6effbe5a4fe92e287b7ea35f63fffbbb86cd5a7d60\n",
      "  Stored in directory: /root/.cache/pip/wheels/63/2a/db/63e2909042c634ef551d0d9ac825b2b0b32dede4a6d87ddc94\n",
      "Successfully built tika wget sacremoses\n",
      "Installing collected packages: flask-cors, joblib, pandas, tqdm, sacremoses, sentencepiece, regex, transformers, scikit-learn, tika, wget\n",
      "  Found existing installation: joblib 0.14.0\n",
      "    Uninstalling joblib-0.14.0:\n",
      "      Successfully uninstalled joblib-0.14.0\n",
      "  Found existing installation: pandas 0.25.3\n",
      "    Uninstalling pandas-0.25.3:\n",
      "      Successfully uninstalled pandas-0.25.3\n",
      "  Found existing installation: tqdm 4.28.1\n",
      "    Uninstalling tqdm-4.28.1:\n",
      "      Successfully uninstalled tqdm-4.28.1\n",
      "  Found existing installation: scikit-learn 0.21.3\n",
      "    Uninstalling scikit-learn-0.21.3:\n",
      "      Successfully uninstalled scikit-learn-0.21.3\n",
      "Successfully installed flask-cors-3.0.8 joblib-0.13.2 pandas-0.25.0 regex-2019.11.1 sacremoses-0.0.35 scikit-learn-0.21.2 sentencepiece-0.1.83 tika-1.19 tqdm-4.32.2 transformers-2.1.1 wget-3.2\n",
      "Processing /content/drive/My Drive/cdQA\n",
      "Requirement already satisfied: Flask==1.1.1 in /usr/local/lib/python3.6/dist-packages (from cdqa==1.3.6) (1.1.1)\n",
      "Requirement already satisfied: flask_cors==3.0.8 in /usr/local/lib/python3.6/dist-packages (from cdqa==1.3.6) (3.0.8)\n",
      "Requirement already satisfied: joblib==0.13.2 in /usr/local/lib/python3.6/dist-packages (from cdqa==1.3.6) (0.13.2)\n",
      "Requirement already satisfied: pandas==0.25.0 in /usr/local/lib/python3.6/dist-packages (from cdqa==1.3.6) (0.25.0)\n",
      "Requirement already satisfied: prettytable==0.7.2 in /usr/local/lib/python3.6/dist-packages (from cdqa==1.3.6) (0.7.2)\n",
      "Requirement already satisfied: transformers==2.1.1 in /usr/local/lib/python3.6/dist-packages (from cdqa==1.3.6) (2.1.1)\n",
      "Requirement already satisfied: scikit_learn==0.21.2 in /usr/local/lib/python3.6/dist-packages (from cdqa==1.3.6) (0.21.2)\n",
      "Requirement already satisfied: tika==1.19 in /usr/local/lib/python3.6/dist-packages (from cdqa==1.3.6) (1.19)\n",
      "Requirement already satisfied: torch>=1.2.0 in /usr/local/lib/python3.6/dist-packages (from cdqa==1.3.6) (1.3.1+cu100)\n",
      "Requirement already satisfied: markdown==3.1.1 in /usr/local/lib/python3.6/dist-packages (from cdqa==1.3.6) (3.1.1)\n",
      "Requirement already satisfied: tqdm==4.32.2 in /usr/local/lib/python3.6/dist-packages (from cdqa==1.3.6) (4.32.2)\n",
      "Requirement already satisfied: wget==3.2 in /usr/local/lib/python3.6/dist-packages (from cdqa==1.3.6) (3.2)\n",
      "Requirement already satisfied: Jinja2>=2.10.1 in /usr/local/lib/python3.6/dist-packages (from Flask==1.1.1->cdqa==1.3.6) (2.10.3)\n",
      "Requirement already satisfied: itsdangerous>=0.24 in /usr/local/lib/python3.6/dist-packages (from Flask==1.1.1->cdqa==1.3.6) (1.1.0)\n",
      "Requirement already satisfied: click>=5.1 in /usr/local/lib/python3.6/dist-packages (from Flask==1.1.1->cdqa==1.3.6) (7.0)\n",
      "Requirement already satisfied: Werkzeug>=0.15 in /usr/local/lib/python3.6/dist-packages (from Flask==1.1.1->cdqa==1.3.6) (0.16.0)\n",
      "Requirement already satisfied: Six in /usr/local/lib/python3.6/dist-packages (from flask_cors==3.0.8->cdqa==1.3.6) (1.12.0)\n",
      "Requirement already satisfied: numpy>=1.13.3 in /usr/local/lib/python3.6/dist-packages (from pandas==0.25.0->cdqa==1.3.6) (1.17.4)\n",
      "Requirement already satisfied: python-dateutil>=2.6.1 in /usr/local/lib/python3.6/dist-packages (from pandas==0.25.0->cdqa==1.3.6) (2.6.1)\n",
      "Requirement already satisfied: pytz>=2017.2 in /usr/local/lib/python3.6/dist-packages (from pandas==0.25.0->cdqa==1.3.6) (2018.9)\n",
      "Requirement already satisfied: sentencepiece in /usr/local/lib/python3.6/dist-packages (from transformers==2.1.1->cdqa==1.3.6) (0.1.83)\n",
      "Requirement already satisfied: boto3 in /usr/local/lib/python3.6/dist-packages (from transformers==2.1.1->cdqa==1.3.6) (1.10.14)\n",
      "Requirement already satisfied: requests in /usr/local/lib/python3.6/dist-packages (from transformers==2.1.1->cdqa==1.3.6) (2.21.0)\n",
      "Requirement already satisfied: regex in /usr/local/lib/python3.6/dist-packages (from transformers==2.1.1->cdqa==1.3.6) (2019.11.1)\n",
      "Requirement already satisfied: sacremoses in /usr/local/lib/python3.6/dist-packages (from transformers==2.1.1->cdqa==1.3.6) (0.0.35)\n",
      "Requirement already satisfied: scipy>=0.17.0 in /usr/local/lib/python3.6/dist-packages (from scikit_learn==0.21.2->cdqa==1.3.6) (1.3.2)\n",
      "Requirement already satisfied: setuptools in /usr/local/lib/python3.6/dist-packages (from tika==1.19->cdqa==1.3.6) (41.4.0)\n",
      "Requirement already satisfied: MarkupSafe>=0.23 in /usr/local/lib/python3.6/dist-packages (from Jinja2>=2.10.1->Flask==1.1.1->cdqa==1.3.6) (1.1.1)\n",
      "Requirement already satisfied: s3transfer<0.3.0,>=0.2.0 in /usr/local/lib/python3.6/dist-packages (from boto3->transformers==2.1.1->cdqa==1.3.6) (0.2.1)\n",
      "Requirement already satisfied: jmespath<1.0.0,>=0.7.1 in /usr/local/lib/python3.6/dist-packages (from boto3->transformers==2.1.1->cdqa==1.3.6) (0.9.4)\n",
      "Requirement already satisfied: botocore<1.14.0,>=1.13.14 in /usr/local/lib/python3.6/dist-packages (from boto3->transformers==2.1.1->cdqa==1.3.6) (1.13.14)\n",
      "Requirement already satisfied: urllib3<1.25,>=1.21.1 in /usr/local/lib/python3.6/dist-packages (from requests->transformers==2.1.1->cdqa==1.3.6) (1.24.3)\n",
      "Requirement already satisfied: chardet<3.1.0,>=3.0.2 in /usr/local/lib/python3.6/dist-packages (from requests->transformers==2.1.1->cdqa==1.3.6) (3.0.4)\n",
      "Requirement already satisfied: idna<2.9,>=2.5 in /usr/local/lib/python3.6/dist-packages (from requests->transformers==2.1.1->cdqa==1.3.6) (2.8)\n",
      "Requirement already satisfied: certifi>=2017.4.17 in /usr/local/lib/python3.6/dist-packages (from requests->transformers==2.1.1->cdqa==1.3.6) (2019.9.11)\n",
      "Requirement already satisfied: docutils<0.16,>=0.10 in /usr/local/lib/python3.6/dist-packages (from botocore<1.14.0,>=1.13.14->boto3->transformers==2.1.1->cdqa==1.3.6) (0.15.2)\n",
      "Building wheels for collected packages: cdqa\n",
      "  Building wheel for cdqa (setup.py): started\n",
      "  Building wheel for cdqa (setup.py): finished with status 'done'\n",
      "  Created wheel for cdqa: filename=cdqa-1.3.6-cp36-none-any.whl size=47310 sha256=7a3c973f96d8e9ab07104681c2d2259f4986957642c28a958d3286f32379841d\n",
      "  Stored in directory: /tmp/pip-ephem-wheel-cache-7_6slvq1/wheels/06/1f/72/40e77b3aee5385ff3fedb8251d1de507a2a7bd5e8cf40ae232\n",
      "Successfully built cdqa\n",
      "Installing collected packages: cdqa\n",
      "Successfully installed cdqa-1.3.6\n",
      "Collecting pytorch_pretrained_bert\n",
      "  Downloading https://files.pythonhosted.org/packages/d7/e0/c08d5553b89973d9a240605b9c12404bcf8227590de62bae27acbcfe076b/pytorch_pretrained_bert-0.6.2-py3-none-any.whl (123kB)\n",
      "Requirement already satisfied: torch>=0.4.1 in /usr/local/lib/python3.6/dist-packages (from pytorch_pretrained_bert) (1.3.1+cu100)\n",
      "Requirement already satisfied: numpy in /usr/local/lib/python3.6/dist-packages (from pytorch_pretrained_bert) (1.17.4)\n",
      "Requirement already satisfied: requests in /usr/local/lib/python3.6/dist-packages (from pytorch_pretrained_bert) (2.21.0)\n",
      "Requirement already satisfied: boto3 in /usr/local/lib/python3.6/dist-packages (from pytorch_pretrained_bert) (1.10.14)\n",
      "Requirement already satisfied: regex in /usr/local/lib/python3.6/dist-packages (from pytorch_pretrained_bert) (2019.11.1)\n",
      "Requirement already satisfied: tqdm in /usr/local/lib/python3.6/dist-packages (from pytorch_pretrained_bert) (4.32.2)\n",
      "Requirement already satisfied: chardet<3.1.0,>=3.0.2 in /usr/local/lib/python3.6/dist-packages (from requests->pytorch_pretrained_bert) (3.0.4)\n",
      "Requirement already satisfied: certifi>=2017.4.17 in /usr/local/lib/python3.6/dist-packages (from requests->pytorch_pretrained_bert) (2019.9.11)\n",
      "Requirement already satisfied: idna<2.9,>=2.5 in /usr/local/lib/python3.6/dist-packages (from requests->pytorch_pretrained_bert) (2.8)\n",
      "Requirement already satisfied: urllib3<1.25,>=1.21.1 in /usr/local/lib/python3.6/dist-packages (from requests->pytorch_pretrained_bert) (1.24.3)\n",
      "Requirement already satisfied: s3transfer<0.3.0,>=0.2.0 in /usr/local/lib/python3.6/dist-packages (from boto3->pytorch_pretrained_bert) (0.2.1)\n",
      "Requirement already satisfied: jmespath<1.0.0,>=0.7.1 in /usr/local/lib/python3.6/dist-packages (from boto3->pytorch_pretrained_bert) (0.9.4)\n",
      "Requirement already satisfied: botocore<1.14.0,>=1.13.14 in /usr/local/lib/python3.6/dist-packages (from boto3->pytorch_pretrained_bert) (1.13.14)\n",
      "Requirement already satisfied: docutils<0.16,>=0.10 in /usr/local/lib/python3.6/dist-packages (from botocore<1.14.0,>=1.13.14->boto3->pytorch_pretrained_bert) (0.15.2)\n",
      "Requirement already satisfied: python-dateutil<2.8.1,>=2.1; python_version >= \"2.7\" in /usr/local/lib/python3.6/dist-packages (from botocore<1.14.0,>=1.13.14->boto3->pytorch_pretrained_bert) (2.6.1)\n",
      "Requirement already satisfied: six>=1.5 in /usr/local/lib/python3.6/dist-packages (from python-dateutil<2.8.1,>=2.1; python_version >= \"2.7\"->botocore<1.14.0,>=1.13.14->boto3->pytorch_pretrained_bert) (1.12.0)\n",
      "Installing collected packages: pytorch-pretrained-bert\n",
      "Successfully installed pytorch-pretrained-bert-0.6.2\n"
     ]
    }
   ],
   "source": [
    "%%bash\n",
    "pip install -r 'requirements.txt'\n",
    "pip install .\n",
    "pip install 'pytorch_pretrained_bert' #for gpu version maybe"
   ]
  },
  {
   "cell_type": "code",
   "execution_count": null,
   "metadata": {},
   "outputs": [],
   "source": [
    "!pip install nltk"
   ]
  },
  {
   "cell_type": "code",
   "execution_count": null,
   "metadata": {},
   "outputs": [],
   "source": [
    "import nltk\n",
    "nltk.download('punkt')"
   ]
  },
  {
   "cell_type": "code",
   "execution_count": 4,
   "metadata": {
    "colab": {
     "base_uri": "https://localhost:8080/",
     "height": 69
    },
    "colab_type": "code",
    "id": "Aa0q3qz2AgEO",
    "outputId": "27f800e6-774a-4b06-ce8e-ace88f5b5c02"
   },
   "outputs": [
    {
     "name": "stderr",
     "output_type": "stream",
     "text": [
      "/usr/local/lib/python3.7/site-packages/tqdm/autonotebook/__init__.py:14: TqdmExperimentalWarning: Using `tqdm.autonotebook.tqdm` in notebook mode. Use `tqdm.tqdm` instead to force console mode (e.g. in jupyter console)\n",
      "  \" (e.g. in jupyter console)\", TqdmExperimentalWarning)\n"
     ]
    }
   ],
   "source": [
    "import pandas as pd\n",
    "from ast import literal_eval\n",
    "from cdqa.utils.filters import filter_paragraphs\n",
    "from cdqa.utils.download import download_model #, download_bnpp_data #not now\n",
    "from cdqa.pipeline.cdqa_sklearn import QAPipeline\n",
    "dir='/content/drive/My Drive/cdQA/data'\n",
    "download_model(model='bert-squad_1.1', dir=dir) \n",
    "#download_bnpp_data(dir=dir) #not now"
   ]
  },
  {
   "cell_type": "code",
   "execution_count": 33,
   "metadata": {},
   "outputs": [],
   "source": [
    "from nltk import tokenize\n",
    "\n",
    "def load_from_csv(file):\n",
    "    df = pd.read_csv(file)\n",
    "    # column name has to be in lowercase\n",
    "    df = df.rename(str.lower, axis='columns')\n",
    "    df['paragraphs'] = df['paragraphs'].apply(lambda x: x.replace(\"'s\", \" \" \"s\").replace(\"\\n\",\" \"))\n",
    "    # split text by sentences\n",
    "    df['paragraphs'] = df['paragraphs'].apply(lambda x: tokenize.sent_tokenize(x))\n",
    "    return df"
   ]
  },
  {
   "cell_type": "code",
   "execution_count": 34,
   "metadata": {
    "colab": {
     "base_uri": "https://localhost:8080/",
     "height": 81
    },
    "colab_type": "code",
    "id": "IZsm83MzeyqU",
    "outputId": "9ce7e29d-172b-41e1-8cc7-51a35e4cc305"
   },
   "outputs": [
    {
     "data": {
      "text/html": [
       "<div>\n",
       "<style scoped>\n",
       "    .dataframe tbody tr th:only-of-type {\n",
       "        vertical-align: middle;\n",
       "    }\n",
       "\n",
       "    .dataframe tbody tr th {\n",
       "        vertical-align: top;\n",
       "    }\n",
       "\n",
       "    .dataframe thead th {\n",
       "        text-align: right;\n",
       "    }\n",
       "</style>\n",
       "<table border=\"1\" class=\"dataframe\">\n",
       "  <thead>\n",
       "    <tr style=\"text-align: right;\">\n",
       "      <th></th>\n",
       "      <th>title</th>\n",
       "      <th>paragraphs</th>\n",
       "    </tr>\n",
       "  </thead>\n",
       "  <tbody>\n",
       "    <tr>\n",
       "      <th>0</th>\n",
       "      <td>Chisholm versus Lindsay</td>\n",
       "      <td>[On April 22, 2005 just before noon, the Plain...</td>\n",
       "    </tr>\n",
       "  </tbody>\n",
       "</table>\n",
       "</div>"
      ],
      "text/plain": [
       "                     title                                         paragraphs\n",
       "0  Chisholm versus Lindsay  [On April 22, 2005 just before noon, the Plain..."
      ]
     },
     "execution_count": 34,
     "metadata": {},
     "output_type": "execute_result"
    }
   ],
   "source": [
    "df = load_from_csv('./data/test.csv')\n",
    "df.head()"
   ]
  },
  {
   "cell_type": "code",
   "execution_count": 36,
   "metadata": {
    "colab": {
     "base_uri": "https://localhost:8080/",
     "height": 712
    },
    "colab_type": "code",
    "id": "eOyMJeyAVnbX",
    "outputId": "3eeff11d-708b-4ca2-8707-98fad5649c3b"
   },
   "outputs": [
    {
     "data": {
      "text/plain": [
       "QAPipeline(reader=BertQA(bert_model='bert-base-uncased', do_lower_case=True, fp16=False,\n",
       "    gradient_accumulation_steps=1, learning_rate=3e-05, local_rank=-1,\n",
       "    loss_scale=0, max_answer_length=30, n_best_size=20, no_cuda=False,\n",
       "    null_score_diff_threshold=0.0, num_train_epochs=2, output_dir=None,\n",
       "    predict_batch_size=8, seed=42, server_ip='', server_port='',\n",
       "    train_batch_size=8, verbose_logging=False,\n",
       "    version_2_with_negative=False, warmup_proportion=0.1),\n",
       "      retrieve_by_doc=False,\n",
       "      retriever=BM25Retriever(b=0.75, floor=None, k1=2.0, lowercase=True, max_df=0.85,\n",
       "       min_df=2, ngram_range=(1, 2), preprocessor=None,\n",
       "       stop_words='english', token_pattern='(?u)\\\\b\\\\w\\\\w+\\\\b',\n",
       "       tokenizer=None, top_n=20, verbose=False, vocabulary=None))"
      ]
     },
     "execution_count": 36,
     "metadata": {},
     "output_type": "execute_result"
    }
   ],
   "source": [
    "cdqa_pipeline = QAPipeline(reader='bert_qa_vCPU-sklearn.joblib')\n",
    "cdqa_pipeline.fit_retriever(df=df)"
   ]
  },
  {
   "cell_type": "code",
   "execution_count": 29,
   "metadata": {
    "colab": {},
    "colab_type": "code",
    "id": "kM58IIidGA3u"
   },
   "outputs": [],
   "source": [
    "import os\n",
    "from nltk import tokenize\n",
    "\n",
    "def clean_text(text):\n",
    "    return text.replace(\"'s\", \" \" \"s\").replace(\"\\n\",\" \")\n",
    "\n",
    "\n",
    "def process_txt_data(path):\n",
    "    data = {'title': [], \n",
    "            'paragraphs': []}\n",
    "    for filename in os.listdir(path):\n",
    "        if filename.endswith(\".txt\"): \n",
    "            with open(path+filename, 'r') as f:\n",
    "                data['title'].append(filename)\n",
    "                data['paragraphs'].append(clean_text(f.read()))\n",
    "    df = pd.DataFrame(data=data)\n",
    "    df['paragraphs'] = df['paragraphs'].apply(lambda x: tokenize.sent_tokenize(x))\n",
    "    return df"
   ]
  },
  {
   "cell_type": "code",
   "execution_count": 0,
   "metadata": {
    "colab": {
     "base_uri": "https://localhost:8080/",
     "height": 54
    },
    "colab_type": "code",
    "id": "ghz9MB0kAokh",
    "outputId": "74f7c37b-7382-488d-c820-5dbacd1bf596"
   },
   "outputs": [
    {
     "data": {
      "text/plain": [
       "'\\n# load pretrained BERT model\\ncdqa_pipeline = QAPipeline(reader=\\'bert_qa_vCPU-sklearn.joblib\\')\\n\\n# prepare corpus\\n# enter directory path (e.g. \"data/\")\\ndf = process_txt_data(path=\"./data/bnpp_newsroom-v1.1.csv\")\\n\\n# fit corpus to model\\ncdqa_pipeline.fit_retriever(df=df)\\n'"
      ]
     },
     "execution_count": 19,
     "metadata": {
      "tags": []
     },
     "output_type": "execute_result"
    }
   ],
   "source": [
    "'''\n",
    "# load pretrained BERT model\n",
    "cdqa_pipeline = QAPipeline(reader='bert_qa_vCPU-sklearn.joblib')\n",
    "\n",
    "# prepare corpus\n",
    "# enter directory path (e.g. \"data/\")\n",
    "df = process_txt_data(path=\"./data/test.csv\")\n",
    "\n",
    "# fit corpus to model\n",
    "cdqa_pipeline.fit_retriever(df=df)\n",
    "'''"
   ]
  },
  {
   "cell_type": "code",
   "execution_count": 0,
   "metadata": {
    "colab": {
     "base_uri": "https://localhost:8080/",
     "height": 106
    },
    "colab_type": "code",
    "id": "TBTZpFlRc-O2",
    "outputId": "aee31608-472b-40a9-d361-fe9f541128ca"
   },
   "outputs": [
    {
     "data": {
      "text/plain": [
       "('January 2016',\n",
       " 'BNP Paribas’ commitment to universities and schools',\n",
       " 'Since January 2016, BNP Paribas has offered an Excellence Program targeting new Master’s level graduates (BAC+5) who show high potential. The aid program lasts 18 months and comprises three assignments of six months each. It serves as a strong career accelerator that enables participants to access high-level management positions at a faster rate. The program allows participants to discover the BNP Paribas Group and its various entities in France and abroad, build an internal and external network by working on different assignments and receive personalized assistance from a mentor and coaching firm at every step along the way.',\n",
       " 16.854050833952467)"
      ]
     },
     "execution_count": 20,
     "metadata": {
      "tags": []
     },
     "output_type": "execute_result"
    }
   ],
   "source": [
    "#! usr/bin/env python\n",
    "cdqa_pipeline.predict(query='Since when does the Excellence Program of BNP Paribas exist?')"
   ]
  }
 ],
 "metadata": {
  "accelerator": "GPU",
  "colab": {
   "collapsed_sections": [],
   "name": "cdqa_asedit(1).ipynb",
   "provenance": []
  },
  "kernelspec": {
   "display_name": "Python 3",
   "language": "python",
   "name": "python3"
  },
  "language_info": {
   "codemirror_mode": {
    "name": "ipython",
    "version": 3
   },
   "file_extension": ".py",
   "mimetype": "text/x-python",
   "name": "python",
   "nbconvert_exporter": "python",
   "pygments_lexer": "ipython3",
   "version": "3.7.3"
  }
 },
 "nbformat": 4,
 "nbformat_minor": 1
}
